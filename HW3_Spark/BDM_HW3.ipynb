{
 "cells": [
  {
   "cell_type": "code",
   "execution_count": 1,
   "metadata": {},
   "outputs": [],
   "source": [
    "from pyspark import SparkContext\n",
    "import csv"
   ]
  },
  {
   "cell_type": "code",
   "execution_count": 2,
   "metadata": {},
   "outputs": [],
   "source": [
    "sc = SparkContext()"
   ]
  },
  {
   "cell_type": "code",
   "execution_count": 3,
   "metadata": {},
   "outputs": [],
   "source": [
    "complaints = sc.textFile('complaints_sample.csv')"
   ]
  },
  {
   "cell_type": "code",
   "execution_count": 4,
   "metadata": {},
   "outputs": [],
   "source": [
    "def mapper(rowId, records):\n",
    "    for rowId in range(3):\n",
    "        next(records)\n",
    "    reader = csv.reader(records)\n",
    "    for r in reader:\n",
    "        yield ((r[1].lower(), int(r[0][:4]), r[7].lower()), 1)\n",
    "           "
   ]
  },
  {
   "cell_type": "code",
   "execution_count": 54,
   "metadata": {
    "scrolled": true
   },
   "outputs": [
    {
     "data": {
      "text/plain": [
       "[('bank account or service', 2015, 1, 1, 100),\n",
       " ('bank account or service', 2016, 2, 2, 50),\n",
       " ('checking or savings account', 2017, 1, 1, 100),\n",
       " ('checking or savings account', 2018, 20, 10, 25),\n",
       " ('checking or savings account', 2019, 460, 72, 13),\n",
       " ('checking or savings account', 2020, 3, 3, 33),\n",
       " ('consumer loan', 2015, 1, 1, 100),\n",
       " ('consumer loan', 2016, 1, 1, 100),\n",
       " ('consumer loan', 2017, 1, 1, 100),\n",
       " ('credit card', 2016, 4, 4, 25),\n",
       " ('credit card', 2017, 1, 1, 100),\n",
       " ('credit card or prepaid card', 2017, 1, 1, 100),\n",
       " ('credit card or prepaid card', 2018, 27, 12, 33),\n",
       " ('credit card or prepaid card', 2019, 437, 42, 15),\n",
       " ('credit card or prepaid card', 2020, 13, 10, 23),\n",
       " ('credit reporting, credit repair services, or other personal consumer reports',\n",
       "  2017,\n",
       "  7,\n",
       "  5,\n",
       "  29),\n",
       " ('credit reporting, credit repair services, or other personal consumer reports',\n",
       "  2018,\n",
       "  238,\n",
       "  22,\n",
       "  56),\n",
       " ('credit reporting, credit repair services, or other personal consumer reports',\n",
       "  2019,\n",
       "  3113,\n",
       "  203,\n",
       "  50),\n",
       " ('credit reporting, credit repair services, or other personal consumer reports',\n",
       "  2020,\n",
       "  144,\n",
       "  10,\n",
       "  51),\n",
       " ('debt collection', 2015, 4, 3, 50),\n",
       " ('debt collection', 2016, 10, 4, 60),\n",
       " ('debt collection', 2017, 13, 11, 15),\n",
       " ('debt collection', 2018, 47, 33, 15),\n",
       " ('debt collection', 2019, 1129, 400, 6),\n",
       " ('debt collection', 2020, 27, 23, 19),\n",
       " ('money transfer, virtual currency, or money service', 2017, 1, 1, 100),\n",
       " ('money transfer, virtual currency, or money service', 2018, 3, 3, 33),\n",
       " ('money transfer, virtual currency, or money service', 2019, 87, 33, 33),\n",
       " ('money transfer, virtual currency, or money service', 2020, 2, 2, 50),\n",
       " ('mortgage', 2015, 1, 1, 100),\n",
       " ('mortgage', 2016, 1, 1, 100),\n",
       " ('mortgage', 2017, 3, 3, 33),\n",
       " ('mortgage', 2018, 39, 27, 10),\n",
       " ('mortgage', 2019, 415, 98, 10),\n",
       " ('mortgage', 2020, 6, 6, 17),\n",
       " ('payday loan', 2016, 1, 1, 100),\n",
       " ('payday loan, title loan, or personal loan', 2018, 7, 2, 86),\n",
       " ('payday loan, title loan, or personal loan', 2019, 84, 54, 6),\n",
       " ('payday loan, title loan, or personal loan', 2020, 1, 1, 100),\n",
       " ('student loan', 2018, 2, 2, 50),\n",
       " ('student loan', 2019, 157, 37, 37),\n",
       " ('student loan', 2020, 1, 1, 100),\n",
       " ('vehicle loan or lease', 2017, 2, 2, 50),\n",
       " ('vehicle loan or lease', 2018, 10, 9, 20),\n",
       " ('vehicle loan or lease', 2019, 90, 47, 7),\n",
       " ('vehicle loan or lease', 2020, 2, 2, 50)]"
      ]
     },
     "execution_count": 54,
     "metadata": {},
     "output_type": "execute_result"
    }
   ],
   "source": [
    "complaints.mapPartitionsWithIndex(mapper) \\\n",
    ".reduceByKey(lambda x, y: x+y) \\\n",
    ".map(lambda x: ((x[0][0], x[0][1]), (x[1], 1, x[1]))) \\\n",
    ".reduceByKey(lambda x, y: (x[0]+y[0], x[1]+y[1], max(x[2], y[2]))) \\\n",
    ".mapValues(lambda x: (x[0], x[1], round(x[2]*100/x[0]))) \\\n",
    ".sortByKey() \\\n",
    ".map(lambda x: x[0]+x[1]) \\\n",
    ".collect()"
   ]
  }
 ],
 "metadata": {
  "kernelspec": {
   "display_name": "Python 3",
   "language": "python",
   "name": "python3"
  },
  "language_info": {
   "codemirror_mode": {
    "name": "ipython",
    "version": 3
   },
   "file_extension": ".py",
   "mimetype": "text/x-python",
   "name": "python",
   "nbconvert_exporter": "python",
   "pygments_lexer": "ipython3",
   "version": "3.7.3"
  }
 },
 "nbformat": 4,
 "nbformat_minor": 2
}
